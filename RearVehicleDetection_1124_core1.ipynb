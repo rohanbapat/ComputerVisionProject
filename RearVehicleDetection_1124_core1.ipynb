{
 "cells": [
  {
   "cell_type": "code",
   "execution_count": 1,
   "metadata": {
    "collapsed": true
   },
   "outputs": [],
   "source": [
    "from __future__ import print_function, division\n",
    "import os\n",
    "import torch\n",
    "import pandas as pd\n",
    "from skimage import io, transform\n",
    "import numpy as np\n",
    "from numpy import newaxis\n",
    "import matplotlib.pyplot as plt\n",
    "from torch.utils.data import Dataset, DataLoader\n",
    "from torchvision import transforms, utils\n",
    "import torchvision.transforms as transforms\n",
    "from torch.autograd import Variable\n",
    "import torch.nn as nn \n",
    "import torch.optim as optim\n",
    "import torch.nn.functional as F\n",
    "\n",
    "# Ignore warnings\n",
    "import warnings\n",
    "warnings.filterwarnings(\"ignore\")\n",
    "\n",
    "plt.ion()   # interactive mode"
   ]
  },
  {
   "cell_type": "markdown",
   "metadata": {},
   "source": [
    "## 1. Data Loading"
   ]
  },
  {
   "cell_type": "code",
   "execution_count": 2,
   "metadata": {
    "collapsed": true
   },
   "outputs": [],
   "source": [
    "# Import the csv with co-ordinates of bounding boxes\n",
    "\n",
    "bb_df = pd.read_csv(\"/home/rb/anaconda2/bin/Project/nexet_2017/train_boxes.csv\")"
   ]
  },
  {
   "cell_type": "markdown",
   "metadata": {},
   "source": [
    "Consider only the largest bounding box corresponding to given image"
   ]
  },
  {
   "cell_type": "code",
   "execution_count": 3,
   "metadata": {
    "collapsed": true
   },
   "outputs": [],
   "source": [
    "bb_df['Area'] = (bb_df['x1']-bb_df['x0'])*(bb_df['y1']-bb_df['y0'])\n",
    "max_ind = bb_df.groupby(['image_filename'])['Area'].idxmax()\n",
    "bb_df = bb_df.loc[max_ind,:]\n",
    "bb_df.drop('Area',axis= 1, inplace=True)\n",
    "bb_df = bb_df.reset_index(drop=True)\n",
    "bb_df = bb_df.head(1000)"
   ]
  },
  {
   "cell_type": "code",
   "execution_count": 4,
   "metadata": {
    "collapsed": true
   },
   "outputs": [],
   "source": [
    "#bb_df.to_csv(\"/home/rb/anaconda2/bin/Project/nexet_2017/train_boxes3.csv\", index = False)"
   ]
  },
  {
   "cell_type": "markdown",
   "metadata": {},
   "source": [
    "We have the top left and bottom right co-ordinates of the bounding boxes. We will use these to get co-ordinates of all edges of the bounding box. Then we try to get all the bounding box co-ords and image labels for a randomly selected image"
   ]
  },
  {
   "cell_type": "code",
   "execution_count": 5,
   "metadata": {
    "collapsed": true
   },
   "outputs": [],
   "source": [
    "# S is the size of grid. S=10 implies 10x10 grid\n",
    "S = 10\n",
    "\n",
    "# B is the number of bounding boxes per cell\n",
    "B = 2"
   ]
  },
  {
   "cell_type": "markdown",
   "metadata": {},
   "source": [
    "xi and yi are the centers of the bounding boxes\n",
    "w and h are the width and height of bounding boxes"
   ]
  },
  {
   "cell_type": "code",
   "execution_count": 6,
   "metadata": {
    "collapsed": true
   },
   "outputs": [],
   "source": [
    "bb_df['w'] = bb_df['x1'] - bb_df['x0']\n",
    "bb_df['h'] = bb_df['y1'] - bb_df['y0']\n",
    "bb_df['xi'] = bb_df['x0'] + bb_df['w']/2\n",
    "bb_df['yi'] = bb_df['y0'] + bb_df['h']/2\n",
    "#bb_df.drop(['x3','y3','x4','y4'], axis = 1, inplace=True)\n",
    "\n",
    "# Create dummy variables for the labels\n",
    "dummy_labels = pd.get_dummies(bb_df.loc[:,'label'])\n",
    "bb_df = bb_df.join(dummy_labels)"
   ]
  },
  {
   "cell_type": "markdown",
   "metadata": {},
   "source": [
    "Rescale the x,y coordinates, widht and height  "
   ]
  },
  {
   "cell_type": "code",
   "execution_count": 7,
   "metadata": {
    "collapsed": true
   },
   "outputs": [],
   "source": [
    "bb_df[['w','xi','x0','x1']] = bb_df[['w','xi','x0','x1']]/1281\n",
    "bb_df[['h','yi','y0','y1']] = bb_df[['h','yi','y0','y1']]/721"
   ]
  },
  {
   "cell_type": "markdown",
   "metadata": {},
   "source": [
    "Create target matrix"
   ]
  },
  {
   "cell_type": "code",
   "execution_count": 8,
   "metadata": {},
   "outputs": [
    {
     "name": "stdout",
     "output_type": "stream",
     "text": [
      "1\n",
      "101\n",
      "201\n",
      "301\n",
      "401\n",
      "501\n",
      "601\n",
      "701\n",
      "801\n",
      "901\n"
     ]
    }
   ],
   "source": [
    "for i in range(bb_df.shape[0]):\n",
    "    \n",
    "    # x_grid is the x-values in which the object lies\n",
    "    x_grid = np.array(list(range(int(bb_df.loc[i,'x0']*100//S),int(bb_df.loc[i,'x1']*100//S+1))))\n",
    "    \n",
    "    # y_grid is the y-values in which the object lies\n",
    "    y_grid = np.array(list(range(int(bb_df.loc[i,'y0']*100//S),int(bb_df.loc[i,'y1']*100//S+1))))\n",
    "    \n",
    "    # Grid is an array of size 15*10*10\n",
    "    grid = np.zeros((5*B+5,S,S))\n",
    "    \n",
    "    # If grid cell contains object, make grid cell 1\n",
    "    grid[:,x_grid.reshape(-1,1),y_grid] = 1\n",
    "\n",
    "    # bb_vector contains confidence, xi, yi, h and w\n",
    "    bb_vector = np.array(bb_df.loc[i,'confidence':'yi'])\n",
    "    \n",
    "    # Label vector contains 5 labels - bus, car, pickup-truck, truck and van\n",
    "    label_vector = np.array(bb_df.loc[i,'bus':'van'])\n",
    "\n",
    "    # target vector is a 15 length vector\n",
    "    target_vector = np.append(bb_vector, np.append(bb_vector, label_vector))\n",
    "\n",
    "    # target_matrix_temp is a 15x10x10 matrix with target vector for grid cells which contain the object\n",
    "    target_matrix_temp = (grid.transpose(1,2,0)*target_vector).transpose(2,0,1)\n",
    "    target_matrix_temp = target_matrix_temp[newaxis,:,:,:]\n",
    "    \n",
    "    # Store all target_matrix_temp (each corresponds to 1 image) into a 4d matrix\n",
    "    if i==0:\n",
    "        target_matrix = target_matrix_temp\n",
    "    else:   \n",
    "        target_matrix = np.append(target_matrix,target_matrix_temp, axis= 0)   \n",
    "    if i%100==1:\n",
    "        print(i)"
   ]
  },
  {
   "cell_type": "markdown",
   "metadata": {},
   "source": [
    "DataLoader class. Refer http://pytorch.org/tutorials/beginner/data_loading_tutorial.html"
   ]
  },
  {
   "cell_type": "code",
   "execution_count": 9,
   "metadata": {
    "collapsed": true
   },
   "outputs": [],
   "source": [
    "class CarsLoader_target(Dataset):\n",
    "    \n",
    "    def __init__(self, csv_file, root_dir, target_matrix, transform = None):\n",
    "        self.bb_df = pd.read_csv(str(root_dir) + \"/\" + str(csv_file))\n",
    "        cols = ['image_filename','x0','y0','x1','y1','label']\n",
    "        self.bb_df = self.bb_df[cols]\n",
    "        self.target_matrix = target_matrix\n",
    "        self.root_dir = root_dir\n",
    "        self.transform = transform\n",
    "        \n",
    "        \n",
    "    def __len__(self):\n",
    "        return len(self.bb_df)\n",
    "    \n",
    "    def __getitem__(self, idx):\n",
    "        img_name = self.bb_df.ix[idx,0]\n",
    "        img_loc = str(self.root_dir) + str(img_name)\n",
    "        image = io.imread(img_loc)\n",
    "        target = target_matrix[idx,:,:,:]        \n",
    "        sample = {'image' : image, 'target': target}\n",
    "\n",
    "        if self.transform:\n",
    "            sample = self.transform(sample)\n",
    "        \n",
    "        return sample"
   ]
  },
  {
   "cell_type": "code",
   "execution_count": 10,
   "metadata": {
    "collapsed": true
   },
   "outputs": [],
   "source": [
    "class CarsLoader(Dataset):\n",
    "    \n",
    "    def __init__(self, csv_file, root_dir, transform = None):\n",
    "        self.bb_df = pd.read_csv(str(root_dir) + \"/\" + str(csv_file))\n",
    "        cols = ['image_filename','x0','y0','x1','y1','label']\n",
    "        self.bb_df = self.bb_df[cols]\n",
    "        self.root_dir = root_dir\n",
    "        self.transform = transform\n",
    "        \n",
    "    def __len__(self):\n",
    "        return len(self.bb_df)\n",
    "    \n",
    "    def __getitem__(self, idx):\n",
    "        img_name = self.bb_df.ix[idx,0]\n",
    "        img_loc = str(self.root_dir) + str(img_name)\n",
    "        image = io.imread(img_loc)\n",
    "        boundingboxes = self.bb_df.loc[self.bb_df.loc[:,'image_filename']==img_name,'x0':'y1'].as_matrix()\n",
    "        labels = self.bb_df.loc[self.bb_df.loc[:,'image_filename']==img_name,'label']\n",
    "        \n",
    "        label_mapping = {'van':1, 'car':2, 'truck':3, 'bus':4, 'pickup_truck':5}\n",
    "        labels = labels.map(label_mapping).as_matrix()\n",
    "        \n",
    "        sample = {'image' : image, 'boundingboxes': boundingboxes, 'labels' : labels}\n",
    "\n",
    "        if self.transform:\n",
    "            sample = self.transform(sample)\n",
    "        \n",
    "        return sample\n",
    "\n",
    "class FullTrainingDataset(torch.utils.data.Dataset):\n",
    "    def init(self, full_ds, offset, length):\n",
    "        self.full_ds = full_ds\n",
    "        self.offset = offset\n",
    "        self.length = length\n",
    "#        assert len(full_ds)>=offset+length, Exception(“Parent Dataset not long enough”)\n",
    "        super(FullTrainingDataset, self).init()\n",
    "\n",
    "    def __len__(self):\n",
    "        return self.length\n",
    "\n",
    "    def __getitem__(self, i):\n",
    "        return self.full_ds[i+self.offset]\n",
    "\n",
    "# Create train-test split\n",
    "def trainTestSplit(dataset, val_share=0.7):\n",
    "    val_offset = int(len(dataset)*(1-val_share))\n",
    "    return  FullTrainingDataset(dataset, 0, val_offset), FullTrainingDataset(dataset, val_offset, len(dataset)-val_offset)"
   ]
  },
  {
   "cell_type": "code",
   "execution_count": 11,
   "metadata": {
    "collapsed": true
   },
   "outputs": [],
   "source": [
    "class ToTensor(object):\n",
    "    \"\"\"Convert ndarrays in sample to Tensors.\"\"\"\n",
    "    def __call__(self, sample):\n",
    "        image, target = sample['image'], sample['target']\n",
    "        # swap color axis because\n",
    "        # numpy image: H x W x C\n",
    "        # torch image: C X H X W\n",
    "        image = image.transpose((2, 0, 1))\n",
    "        return {'image': torch.from_numpy(image),\n",
    "                'target': torch.from_numpy(target.astype('float'))}\n",
    "\n",
    "class Flatten(object):\n",
    "    \"\"\"Convert ndarrays in sample to Tensors.\"\"\"\n",
    "    def __call__(self, sample):\n",
    "        image, boundingboxes, labels = sample['image'], sample['boundingboxes'], sample['labels']\n",
    "        image = image.contiguous().view(-1)\n",
    "        return {'image': image,\n",
    "                'target': target}\n",
    "\n",
    "class Rescale(object):\n",
    "    \"\"\"Rescale the image in a sample to a given size.\n",
    "\n",
    "    Args:\n",
    "        output_size (tuple or tuple): Desired output size. If tuple, output is\n",
    "            matched to output_size. If int, smaller of image edges is matched\n",
    "            to output_size keeping aspect ratio the same.\n",
    "    \"\"\"\n",
    "\n",
    "    def __init__(self, output_size):\n",
    "        assert isinstance(output_size, (int, tuple))\n",
    "        self.output_size = output_size\n",
    "\n",
    "    def __call__(self, sample):\n",
    "        image, target = sample['image'], sample['target']\n",
    "\n",
    "        h, w = image.shape[:2]\n",
    "\n",
    "        new_h, new_w = self.output_size, self.output_size\n",
    "\n",
    "        image = transform.resize(image, (new_h, new_w))\n",
    "        # h and w are swapped for landmarks because for images,\n",
    "        # x and y axes are axis 1 and 0 respectively\n",
    "        \n",
    "        return {'image': image,\n",
    "                'target': target}"
   ]
  },
  {
   "cell_type": "code",
   "execution_count": 12,
   "metadata": {
    "collapsed": true
   },
   "outputs": [],
   "source": [
    "# Use carsloader to convert the image dataset into a dataloader\n",
    "\n",
    "\n",
    "imgTransform = transforms.Compose([Rescale(256),ToTensor()])\n",
    "carsdataset = CarsLoader_target(csv_file='train_boxes3.csv', root_dir= '/home/rb/anaconda2/bin/Project/nexet_2017/',\n",
    "                        target_matrix = target_matrix, transform = imgTransform)\n",
    "#carsdataset = CarsLoader(csv_file='train_boxes2.csv', root_dir= '/home/rb/anaconda2/bin/Project/nexet_2017/',\n",
    "#                         transform=transforms.Compose([ToTensor()]))\n",
    "trainLoader = torch.utils.data.DataLoader(carsdataset, batch_size = 50, shuffle = True, num_workers = 4)"
   ]
  },
  {
   "cell_type": "code",
   "execution_count": 13,
   "metadata": {},
   "outputs": [
    {
     "name": "stdout",
     "output_type": "stream",
     "text": [
      "0 torch.Size([3, 256, 256]) torch.Size([15, 10, 10])\n",
      "1 torch.Size([3, 256, 256]) torch.Size([15, 10, 10])\n",
      "2 torch.Size([3, 256, 256]) torch.Size([15, 10, 10])\n",
      "3 torch.Size([3, 256, 256]) torch.Size([15, 10, 10])\n"
     ]
    }
   ],
   "source": [
    "for i in range(len(carsdataset)):\n",
    "    sample = carsdataset[i]\n",
    "    print(i, sample['image'].size(), sample['target'].size())\n",
    "    if i == 3:\n",
    "        break"
   ]
  },
  {
   "cell_type": "code",
   "execution_count": 14,
   "metadata": {
    "scrolled": true
   },
   "outputs": [
    {
     "name": "stdout",
     "output_type": "stream",
     "text": [
      "0 torch.Size([50, 3, 256, 256]) torch.Size([50, 15, 10, 10])\n"
     ]
    }
   ],
   "source": [
    "for i, index in enumerate(trainLoader):\n",
    "    print(i, index['image'].size(), index['target'].size())\n",
    "    break"
   ]
  },
  {
   "cell_type": "markdown",
   "metadata": {},
   "source": [
    "## 2. Modelling"
   ]
  },
  {
   "cell_type": "code",
   "execution_count": 15,
   "metadata": {
    "collapsed": true
   },
   "outputs": [],
   "source": [
    "loss_df = pd.DataFrame(columns = ['Type','Epoch','Loss'])"
   ]
  },
  {
   "cell_type": "code",
   "execution_count": 16,
   "metadata": {
    "collapsed": true
   },
   "outputs": [],
   "source": [
    "from tqdm import tqdm as tqdm \n",
    "\n",
    "def train_model(network, criterion, optimizer, trainLoader, n_epochs = 10):\n",
    "    \n",
    "    iter_x = 0\n",
    "    \n",
    "    # Training loop.\n",
    "    for epoch in range(0, n_epochs):\n",
    "        correct = 0.0\n",
    "        cum_loss = 0.0\n",
    "        counter = 0\n",
    "\n",
    "        # Make a pass over the training data.\n",
    "        t = tqdm(trainLoader, desc = 'Training epoch %d' % epoch)\n",
    "        network.train()  # This is important to call before training!\n",
    "        for (i, item) in enumerate(trainLoader):\n",
    "            \n",
    "            # Wrap inputs, and targets into torch.autograd.Variable types.\n",
    "            inputs = Variable(item['image'].type(torch.ByteTensor), requires_grad = True)\n",
    "            labels = Variable(item['target'].type(torch.FloatTensor), requires_grad = False)\n",
    "\n",
    "            # Forward pass:\n",
    "            outputs = network(inputs.float())\n",
    "            loss = criterion(outputs, labels)\n",
    "            # Backward pass:\n",
    "            optimizer.zero_grad()\n",
    "            # Loss is a variable, and calling backward on a Variable will\n",
    "            # compute all the gradients that lead to that Variable taking on its\n",
    "            # current value.\n",
    "            loss.backward() \n",
    "\n",
    "            # Weight and bias updates.\n",
    "            optimizer.step()\n",
    "\n",
    "            # logging information.\n",
    "            cum_loss += loss.data[0]\n",
    "            t.set_postfix(loss = cum_loss / (1 + i))\n",
    "            \n",
    "#        print(\"epoch:\", epoch)\n",
    "                \n",
    "        loss_df.loc[iter_x,'Type'] = \"Train\"\n",
    "        loss_df.loc[iter_x,'Epoch'] = epoch + 1\n",
    "        loss_df.loc[iter_x,'Loss'] = cum_loss / (i + 1)\n",
    "\n",
    "        iter_x +=1\n",
    "\n",
    "# # Validation    \n",
    "\n",
    "#         correct = 0.0\n",
    "#         cum_loss = 0.0\n",
    "#         counter = 0\n",
    "#         t = tqdm(valLoader, desc = 'Validation epoch %d' % epoch)\n",
    "#         network.eval()  # This is important to call before evaluating!\n",
    "#         for (i, (inputs, labels)) in enumerate(t):\n",
    "\n",
    "#             # Wrap inputs, and targets into torch.autograd.Variable types.\n",
    "#             inputs = Variable(inputs, requires_grad = True)\n",
    "#             labels = Variable(labels, requires_grad = False)\n",
    "\n",
    "#             # Forward pass:\n",
    "#             outputs = network(inputs)\n",
    "#             loss = criterion(outputs, labels)\n",
    "\n",
    "#             # logging information.\n",
    "#             cum_loss += loss.data[0]\n",
    "#             max_scores, max_labels = outputs.data.max(1)\n",
    "#             correct += (max_labels == labels.data).sum()\n",
    "#             counter += inputs.size(0)\n",
    "#             t.set_postfix(loss = cum_loss / (1 + i), accuracy = 100 * correct / counter)\n",
    "#             loss_df.loc[iter_x,'Type'] = \"Validation\"\n",
    "\n",
    "#         loss_df.loc[iter_x,'Epoch'] = epoch + 1\n",
    "#         loss_df.loc[iter_x,'Loss'] = cum_loss / (i + 1)\n",
    "\n",
    "#         accuracy_df.loc[iter_x,'Type'] = \"Validation\"\n",
    "#         accuracy_df.loc[iter_x,'Epoch'] = epoch + 1\n",
    "#         accuracy_df.loc[iter_x,'Accuracy'] = 100 * correct / counter\n",
    "\n",
    "#         iter_x +=1"
   ]
  },
  {
   "cell_type": "code",
   "execution_count": 17,
   "metadata": {
    "collapsed": true
   },
   "outputs": [],
   "source": [
    "class nn_YOLOLoss(nn.Module): \n",
    "\n",
    "    def forward(self, inputs, labels):\n",
    "\n",
    "        lambda_coord = 5\n",
    "        lambda_noobj = 0.5\n",
    "\n",
    "#         inputs = target_matrix + 3\n",
    "#         labels = target_matrix\n",
    "\n",
    "#         inputs = torch.FloatTensor(inputs.astype('float'))\n",
    "#         labels = torch.FloatTensor(labels.astype('float'))\n",
    "\n",
    "        filled_labels = labels/labels\n",
    "        unfilled_labels = filled_labels!=filled_labels\n",
    "        filled_labels = filled_labels==filled_labels\n",
    "\n",
    "        # x,y loss\n",
    "        xy1_diff = inputs[:,3:4,:,:] - labels[:,3:4,:,:]\n",
    "        xy1_loss = (torch.mul(xy1_diff,xy1_diff)*filled_labels[:,3:4,:,:].float()).mean()\n",
    "\n",
    "        xy2_diff = inputs[:,8:9,:,:] - labels[:,8:9,:,:]\n",
    "        xy2_loss = (torch.mul(xy1_diff,xy1_diff)*filled_labels[:,8:9,:,:].float()).mean()\n",
    "\n",
    "        total_xy_loss = lambda_coord*(xy1_loss+xy2_loss)\n",
    "\n",
    "        # w,h loss\n",
    "        \n",
    "        wh1_diff = torch.sqrt(inputs[:,1:2,:,:].abs()) - torch.sqrt(labels[:,1:2,:,:].abs())\n",
    "        wh1_loss = (torch.mul(wh1_diff,wh1_diff)*filled_labels[:,3:4,:,:].float()).mean()\n",
    "\n",
    "        wh2_diff = torch.sqrt(inputs[:,6:7,:,:].abs()) - torch.sqrt(labels[:,6:7,:,:].abs())\n",
    "        wh2_loss = (torch.mul(wh2_diff,wh2_diff)*filled_labels[:,6:7,:,:].float()).mean()\n",
    "\n",
    "        total_wh_loss = lambda_coord*(wh1_loss+wh2_loss)\n",
    "\n",
    "        # label loss\n",
    "        label_diff = inputs[:,10:,:,:] - labels[:,10:,:,:]\n",
    "        label_loss = (torch.mul(label_diff,label_diff)*filled_labels[:,10:,:,:].float()).mean()\n",
    "\n",
    "        noobj_label_loss = (torch.mul(label_diff,label_diff)*unfilled_labels[:,10:,:,:].float()).mean()\n",
    "\n",
    "        total_label_loss = label_loss + lambda_noobj*noobj_label_loss\n",
    "\n",
    "        total_loss = total_xy_loss + total_wh_loss + total_label_loss  \n",
    "\n",
    "        return(total_loss)"
   ]
  },
  {
   "cell_type": "code",
   "execution_count": 18,
   "metadata": {
    "collapsed": true
   },
   "outputs": [],
   "source": [
    "class LeNet(nn.Module):\n",
    "    def __init__(self):\n",
    "        super(LeNet, self).__init__()\n",
    "        # Convolutional layers.\n",
    "        self.conv1 = nn.Conv2d(3, 15, 5)\n",
    "        self.conv2 = nn.Conv2d(15,25,7, stride=2)\n",
    "        self.conv3 = nn.Conv2d(25,60,7)\n",
    "        self.conv4 = nn.Conv2d(60, 120, 3)\n",
    "      \n",
    "        # Linear layers.\n",
    "        self.fc1 = nn.Linear(120*10*10, 4800)\n",
    "        self.fc2 = nn.Linear(4800, 2400)\n",
    "        self.fc3 = nn.Linear(2400, 15*10*10)\n",
    "\n",
    "    def forward(self, x):\n",
    "        out = F.relu(self.conv1(x))\n",
    "        out = F.max_pool2d(out, 2)\n",
    "        out = F.relu(self.conv2(out))\n",
    "        out = F.max_pool2d(out, 2)\n",
    "        out = F.relu(self.conv3(out))\n",
    "        out = F.max_pool2d(out, 2)\n",
    "        out = F.relu(self.conv4(out))\n",
    "        \n",
    "        # This flattens the output of the previous layer into a vector.\n",
    "        out = out.view(out.size(0), -1)\n",
    "        out = F.relu(self.fc1(out))\n",
    "        out = F.relu(self.fc2(out))\n",
    "        out = F.sigmoid(self.fc3(out))\n",
    "        out = out.view(50,15,10,10)\n",
    "        \n",
    "        return out     "
   ]
  },
  {
   "cell_type": "code",
   "execution_count": 19,
   "metadata": {},
   "outputs": [
    {
     "name": "stderr",
     "output_type": "stream",
     "text": [
      "Training epoch 0:   0%|          | 0/20 [01:19<?, ?it/s, loss=0.239]\n",
      "Training epoch 1:   0%|          | 0/20 [00:00<?, ?it/s]\u001b[A\n",
      "\n",
      "Training epoch 1:   0%|          | 0/20 [00:11<?, ?it/s, loss=0.241]\u001b[A\n",
      "Training epoch 1:   0%|          | 0/20 [00:19<?, ?it/s, loss=0.24]\u001b[A\n",
      "Training epoch 1:   0%|          | 0/20 [00:24<?, ?it/s, loss=0.239]\u001b[A\n",
      "Training epoch 1:   0%|          | 0/20 [00:28<?, ?it/s, loss=0.239]\u001b[A\n",
      "Training epoch 1:   0%|          | 0/20 [00:32<?, ?it/s, loss=0.239]\u001b[A\n",
      "Training epoch 1:   0%|          | 0/20 [00:36<?, ?it/s, loss=0.239]\u001b[A\n",
      "Training epoch 1:   0%|          | 0/20 [00:40<?, ?it/s, loss=0.239]\u001b[A\n",
      "Training epoch 1:   0%|          | 0/20 [00:45<?, ?it/s, loss=0.239]\u001b[A\n",
      "Training epoch 1:   0%|          | 0/20 [00:49<?, ?it/s, loss=0.239]\u001b[A\n",
      "Training epoch 1:   0%|          | 0/20 [00:53<?, ?it/s, loss=0.239]\u001b[A\n",
      "Training epoch 1:   0%|          | 0/20 [00:59<?, ?it/s, loss=0.239]\u001b[A\n",
      "Training epoch 1:   0%|          | 0/20 [01:04<?, ?it/s, loss=0.239]\u001b[A\n",
      "Training epoch 1:   0%|          | 0/20 [01:07<?, ?it/s, loss=0.239]\u001b[A\n",
      "Training epoch 1:   0%|          | 0/20 [01:10<?, ?it/s, loss=0.239]\u001b[A\n",
      "Training epoch 1:   0%|          | 0/20 [01:14<?, ?it/s, loss=0.239]\u001b[A\n",
      "Training epoch 1:   0%|          | 0/20 [01:17<?, ?it/s, loss=0.239]\u001b[A\n",
      "Training epoch 1:   0%|          | 0/20 [01:20<?, ?it/s, loss=0.239]\u001b[A\n",
      "Training epoch 1:   0%|          | 0/20 [01:23<?, ?it/s, loss=0.239]\u001b[A\n",
      "Training epoch 1:   0%|          | 0/20 [01:26<?, ?it/s, loss=0.239]\u001b[A\n",
      "Training epoch 1:   0%|          | 0/20 [01:28<?, ?it/s, loss=0.239]\u001b[A\n",
      "\n",
      "Training epoch 2:   0%|          | 0/20 [00:00<?, ?it/s]\u001b[A\u001b[A\n",
      "\u001b[A\n",
      "\n",
      "Training epoch 2:   0%|          | 0/20 [00:12<?, ?it/s, loss=0.239]\u001b[A\u001b[A\n",
      "\n",
      "Training epoch 2:   0%|          | 0/20 [00:18<?, ?it/s, loss=0.24]\u001b[A\u001b[A\n",
      "\n",
      "Training epoch 2:   0%|          | 0/20 [00:23<?, ?it/s, loss=0.24]\u001b[A\u001b[A\n",
      "\n",
      "Training epoch 2:   0%|          | 0/20 [00:27<?, ?it/s, loss=0.24]\u001b[A\u001b[A\n",
      "\n",
      "Training epoch 2:   0%|          | 0/20 [00:31<?, ?it/s, loss=0.24]\u001b[A\u001b[A\n",
      "\n",
      "Training epoch 2:   0%|          | 0/20 [00:36<?, ?it/s, loss=0.239]\u001b[A\u001b[A\n",
      "\n",
      "Training epoch 2:   0%|          | 0/20 [00:40<?, ?it/s, loss=0.239]\u001b[A\u001b[A\n",
      "\n",
      "Training epoch 2:   0%|          | 0/20 [00:44<?, ?it/s, loss=0.239]\u001b[A\u001b[A\n",
      "\n",
      "Training epoch 2:   0%|          | 0/20 [00:48<?, ?it/s, loss=0.239]\u001b[A\u001b[A\n",
      "\n",
      "Training epoch 2:   0%|          | 0/20 [00:52<?, ?it/s, loss=0.239]\u001b[A\u001b[A\n",
      "\n",
      "Training epoch 2:   0%|          | 0/20 [00:57<?, ?it/s, loss=0.239]\u001b[A\u001b[A\n",
      "\n",
      "Training epoch 2:   0%|          | 0/20 [01:01<?, ?it/s, loss=0.239]\u001b[A\u001b[A\n",
      "\n",
      "Training epoch 2:   0%|          | 0/20 [01:04<?, ?it/s, loss=0.239]\u001b[A\u001b[A\n",
      "\n",
      "Training epoch 2:   0%|          | 0/20 [01:07<?, ?it/s, loss=0.239]\u001b[A\u001b[A\n",
      "\n",
      "Training epoch 2:   0%|          | 0/20 [01:10<?, ?it/s, loss=0.239]\u001b[A\u001b[A\n",
      "\n",
      "Training epoch 2:   0%|          | 0/20 [01:13<?, ?it/s, loss=0.239]\u001b[A\u001b[A\n",
      "\n",
      "Training epoch 2:   0%|          | 0/20 [01:16<?, ?it/s, loss=0.239]\u001b[A\u001b[A\n",
      "\n",
      "Training epoch 2:   0%|          | 0/20 [01:19<?, ?it/s, loss=0.239]\u001b[A\u001b[A\n",
      "\n",
      "Training epoch 2:   0%|          | 0/20 [01:22<?, ?it/s, loss=0.239]\u001b[A\u001b[A\n",
      "\n",
      "Training epoch 2:   0%|          | 0/20 [01:25<?, ?it/s, loss=0.239]\u001b[A\u001b[A\n",
      "\n",
      "\n",
      "Training epoch 3:   0%|          | 0/20 [00:00<?, ?it/s]\u001b[A\u001b[A\u001b[A\n",
      "\n",
      "\u001b[A\u001b[A\n",
      "\n",
      "\n",
      "Training epoch 3:   0%|          | 0/20 [00:11<?, ?it/s, loss=0.24]\u001b[A\u001b[A\u001b[A\n",
      "\n",
      "\n",
      "Training epoch 3:   0%|          | 0/20 [00:20<?, ?it/s, loss=0.24]\u001b[A\u001b[A\u001b[A\n",
      "\n",
      "\n",
      "Training epoch 3:   0%|          | 0/20 [00:24<?, ?it/s, loss=0.239]\u001b[A\u001b[A\u001b[A\n",
      "\n",
      "\n",
      "Training epoch 3:   0%|          | 0/20 [00:28<?, ?it/s, loss=0.239]\u001b[A\u001b[A\u001b[A\n",
      "\n",
      "\n",
      "Training epoch 3:   0%|          | 0/20 [00:33<?, ?it/s, loss=0.239]\u001b[A\u001b[A\u001b[A\n",
      "\n",
      "\n",
      "Training epoch 3:   0%|          | 0/20 [00:37<?, ?it/s, loss=0.239]\u001b[A\u001b[A\u001b[A\n",
      "\n",
      "\n",
      "Training epoch 3:   0%|          | 0/20 [00:41<?, ?it/s, loss=0.239]\u001b[A\u001b[A\u001b[A\n",
      "\n",
      "\n",
      "Training epoch 3:   0%|          | 0/20 [00:45<?, ?it/s, loss=0.239]\u001b[A\u001b[A\u001b[A\n",
      "\n",
      "\n",
      "Training epoch 3:   0%|          | 0/20 [00:50<?, ?it/s, loss=0.239]\u001b[A\u001b[A\u001b[A\n",
      "\n",
      "\n",
      "Training epoch 3:   0%|          | 0/20 [00:54<?, ?it/s, loss=0.239]\u001b[A\u001b[A\u001b[A\n",
      "\n",
      "\n",
      "Training epoch 3:   0%|          | 0/20 [00:58<?, ?it/s, loss=0.239]\u001b[A\u001b[A\u001b[A\n",
      "\n",
      "\n",
      "Training epoch 3:   0%|          | 0/20 [01:02<?, ?it/s, loss=0.239]\u001b[A\u001b[A\u001b[A\n",
      "\n",
      "\n",
      "Training epoch 3:   0%|          | 0/20 [01:06<?, ?it/s, loss=0.239]\u001b[A\u001b[A\u001b[A\n",
      "\n",
      "\n",
      "Training epoch 3:   0%|          | 0/20 [01:09<?, ?it/s, loss=0.239]\u001b[A\u001b[A\u001b[A\n",
      "\n",
      "\n",
      "Training epoch 3:   0%|          | 0/20 [01:12<?, ?it/s, loss=0.239]\u001b[A\u001b[A\u001b[A\n",
      "\n",
      "\n",
      "Training epoch 3:   0%|          | 0/20 [01:15<?, ?it/s, loss=0.239]\u001b[A\u001b[A\u001b[A\n",
      "\n",
      "\n",
      "Training epoch 3:   0%|          | 0/20 [01:18<?, ?it/s, loss=0.239]\u001b[A\u001b[A\u001b[A\n",
      "\n",
      "\n",
      "Training epoch 3:   0%|          | 0/20 [01:21<?, ?it/s, loss=0.239]\u001b[A\u001b[A\u001b[A\n",
      "\n",
      "\n",
      "Training epoch 3:   0%|          | 0/20 [01:24<?, ?it/s, loss=0.239]\u001b[A\u001b[A\u001b[A\n",
      "\n",
      "\n",
      "Training epoch 3:   0%|          | 0/20 [01:27<?, ?it/s, loss=0.239]\u001b[A\u001b[A\u001b[A"
     ]
    }
   ],
   "source": [
    "learningRate = 0.01\n",
    "        \n",
    "# Definition of our network.\n",
    "network = LeNet()\n",
    "\n",
    "# Criterion\n",
    "criterion = nn.MSELoss()\n",
    "\n",
    "# Definition of optimization strategy.\n",
    "optimizer = optim.SGD(network.parameters(), lr = learningRate, momentum=0.8)\n",
    "\n",
    "# Train the previously defined model.\n",
    "train_model(network, criterion, optimizer, trainLoader, n_epochs = 4)                                "
   ]
  },
  {
   "cell_type": "code",
   "execution_count": 20,
   "metadata": {},
   "outputs": [
    {
     "data": {
      "image/png": "[encoded data removed]",
      "text/plain": [
       "<matplotlib.figure.Figure at 0x7f513f094350>"
      ]
     },
     "metadata": {},
     "output_type": "display_data"
    }
   ],
   "source": [
    "import matplotlib.pyplot as plt\n",
    "%matplotlib inline\n",
    "# print(loss_df, accuracy_df)\n",
    "trainloss_plot = plt.plot(loss_df.loc[loss_df['Type']==\"Train\", 'Epoch'],loss_df.loc[loss_df['Type']==\"Train\", 'Loss'], label = 'Train loss')\n",
    "plt.legend(loc = 'upper right')\n",
    "plt.show()"
   ]
  },
  {
   "cell_type": "code",
   "execution_count": 21,
   "metadata": {
    "collapsed": true
   },
   "outputs": [],
   "source": [
    "def show_bounding_box(image_var, img_bb):\n",
    "\n",
    "    plt.imshow(image_var.numpy().transpose(1, 2, 0))\n",
    "    for i in img_bb.index:\n",
    "        plt.plot(img_bb.loc[i,['x0','x3']], img_bb.loc[i,['y0','y3']], color = \"blue\")\n",
    "        plt.plot(img_bb.loc[i,['x1','x4']], img_bb.loc[i,['y1','y4']], color = \"blue\")\n",
    "        plt.plot(img_bb.loc[i,['x0','x4']], img_bb.loc[i,['y0','y4']], color = \"blue\")\n",
    "        plt.plot(img_bb.loc[i,['x1','x3']], img_bb.loc[i,['y1','y3']], color = \"blue\")"
   ]
  },
  {
   "cell_type": "code",
   "execution_count": 25,
   "metadata": {},
   "outputs": [],
   "source": [
    "def get_batch_pred(trainLoader):\n",
    "    for i,item in enumerate(trainLoader):\n",
    "        test_batch = item['image']\n",
    "        break\n",
    "    \n",
    "    test_batch_var = Variable(test_batch.type(torch.FloatTensor))\n",
    "    \n",
    "    # Make prediction for test_batch_var\n",
    "    batch_labels = network(test_batch_var.float())\n",
    "    return batch_labels, test_batch\n",
    "\n",
    "def convert_batch_labels(i, batch_labels, test_batch):\n",
    "    batch_labels = batch_labels.data.numpy()\n",
    "\n",
    "    test_img = test_batch[i,:,:,:]\n",
    "    img_labels = batch_labels[i,:,:,:]\n",
    "\n",
    "    high_conf_box = img_labels[[0,5],:,:].argmax()\n",
    "\n",
    "    high_conf_b = high_conf_box//100\n",
    "    high_conf_y_grid= (high_conf_box-high_conf_b*100)//10\n",
    "    high_conf_x_grid = high_conf_box%10\n",
    "\n",
    "    print(img_labels[:,high_conf_x_grid,high_conf_y_grid])\n",
    "    pred_w = abs(img_labels[high_conf_b*5+1 ,high_conf_x_grid, high_conf_y_grid])*256\n",
    "    pred_h = abs(img_labels[high_conf_b*5+2 ,high_conf_x_grid, high_conf_y_grid])*256\n",
    "    pred_xi = max(img_labels[high_conf_b*5+3 ,high_conf_x_grid, high_conf_y_grid],0)*256\n",
    "    pred_yi = max(img_labels[high_conf_b*5+4 ,high_conf_x_grid, high_conf_y_grid],0)*256\n",
    "    pred_x0 = max(pred_xi-pred_w/2,0)\n",
    "    pred_x1 = min(pred_xi+pred_w/2,256)\n",
    "\n",
    "    pred_y0 = max(pred_yi-pred_h/2,0)\n",
    "    pred_y1 = min(pred_xi+pred_h/2,256)\n",
    "\n",
    "    pred_x3 = pred_x1\n",
    "    pred_y3 = pred_y0\n",
    "\n",
    "    pred_x4 = pred_x0\n",
    "    pred_y4 = pred_y1\n",
    "\n",
    "    img_bb = pd.DataFrame({'x0':pred_x0, 'y0':pred_y0,\n",
    "                           'x1':pred_x1, 'y1':pred_y1,\n",
    "                           'x3':pred_x3, 'y3':pred_y3,\n",
    "                           'x4':pred_x4, 'y4':pred_y4},index=[0])\n",
    "    show_bounding_box(test_img, img_bb)"
   ]
  },
  {
   "cell_type": "code",
   "execution_count": 26,
   "metadata": {},
   "outputs": [],
   "source": [
    "batch_labels,test_batch = get_batch_pred(trainLoader)"
   ]
  },
  {
   "cell_type": "code",
   "execution_count": 34,
   "metadata": {},
   "outputs": [
    {
     "name": "stdout",
     "output_type": "stream",
     "text": [
      "[ 0.50540012  0.50420117  0.49585715  0.5034821   0.5002507   0.49630427\n",
      "  0.50368017  0.50077522  0.5034343   0.49556148  0.50145406  0.50129622\n",
      "  0.49683598  0.50090975  0.50100845]\n"
     ]
    },
    {
     "data": {
      "image/png": "[encoded data removed]",
      "text/plain": [
       "<matplotlib.figure.Figure at 0x7f513c20ac50>"
      ]
     },
     "metadata": {},
     "output_type": "display_data"
    }
   ],
   "source": [
    "convert_batch_labels(3,batch_labels, test_batch)"
   ]
  }
 ],
 "metadata": {
  "kernelspec": {
   "display_name": "Python 2",
   "language": "python",
   "name": "python2"
  },
  "language_info": {
   "codemirror_mode": {
    "name": "ipython",
    "version": 2
   },
   "file_extension": ".py",
   "mimetype": "text/x-python",
   "name": "python",
   "nbconvert_exporter": "python",
   "pygments_lexer": "ipython2",
   "version": "2.7.13"
  }
 },
 "nbformat": 4,
 "nbformat_minor": 2
}
